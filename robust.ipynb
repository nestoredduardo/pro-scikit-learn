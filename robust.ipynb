{
 "cells": [
  {
   "cell_type": "code",
   "execution_count": 7,
   "metadata": {},
   "outputs": [],
   "source": [
    "import pandas as pd\n",
    "\n",
    "from sklearn.linear_model import RANSACRegressor, HuberRegressor\n",
    "from sklearn.svm import SVR\n",
    "\n",
    "from sklearn.model_selection import train_test_split\n",
    "from sklearn.metrics import mean_squared_error"
   ]
  },
  {
   "cell_type": "code",
   "execution_count": 2,
   "metadata": {},
   "outputs": [
    {
     "name": "stdout",
     "output_type": "stream",
     "text": [
      "       country  rank  score      high       low       gdp    family    lifexp  \\\n",
      "0       Norway     1  7.537  7.594445  7.479556  1.616463  1.533524  0.796667   \n",
      "1      Denmark     2  7.522  7.581728  7.462272  1.482383  1.551122  0.792566   \n",
      "2      Iceland     3  7.504  7.622030  7.385970  1.480633  1.610574  0.833552   \n",
      "3  Switzerland     4  7.494  7.561772  7.426227  1.564980  1.516912  0.858131   \n",
      "4      Finland     5  7.469  7.527542  7.410458  1.443572  1.540247  0.809158   \n",
      "\n",
      "    freedom  generosity  corruption  dystopia  \n",
      "0  0.635423    0.362012    0.315964  2.277027  \n",
      "1  0.626007    0.355280    0.400770  2.313707  \n",
      "2  0.627163    0.475540    0.153527  2.322715  \n",
      "3  0.620071    0.290549    0.367007  2.276716  \n",
      "4  0.617951    0.245483    0.382612  2.430182  \n"
     ]
    }
   ],
   "source": [
    "dataset = pd.read_csv('./data/felicidad_corrupt.csv')\n",
    "print(dataset.head(5))"
   ]
  },
  {
   "cell_type": "code",
   "execution_count": 3,
   "metadata": {},
   "outputs": [],
   "source": [
    "X = dataset.drop(['country','score'], axis=1)\n",
    "y = dataset[['score']]\n",
    "\n",
    "X_train, X_test, y_train, y_test = train_test_split(X,y, test_size=0.3, random_state=1)"
   ]
  },
  {
   "cell_type": "code",
   "execution_count": 4,
   "metadata": {},
   "outputs": [],
   "source": [
    "estimadores = {\n",
    "  'SVR': SVR(gamma='auto', C=1.0, epsilon=0.1),\n",
    "  'RANSAC' : RANSACRegressor(),\n",
    "  'HUBER' : HuberRegressor(epsilon=1.35)\n",
    "}"
   ]
  },
  {
   "cell_type": "code",
   "execution_count": 10,
   "metadata": {},
   "outputs": [
    {
     "name": "stdout",
     "output_type": "stream",
     "text": [
      "================================================================\n",
      "SVR\n",
      "MSE:  0.0424921561653182\n",
      "================================================================\n",
      "RANSAC\n",
      "MSE:  1.7314667532187272e-19\n",
      "================================================================\n",
      "HUBER\n",
      "MSE:  1.1249939736014483e-06\n"
     ]
    },
    {
     "name": "stderr",
     "output_type": "stream",
     "text": [
      "/home/nestoredduardo/anaconda3/envs/scikit/lib/python3.10/site-packages/sklearn/utils/validation.py:993: DataConversionWarning: A column-vector y was passed when a 1d array was expected. Please change the shape of y to (n_samples, ), for example using ravel().\n",
      "  y = column_or_1d(y, warn=True)\n",
      "/home/nestoredduardo/anaconda3/envs/scikit/lib/python3.10/site-packages/sklearn/utils/validation.py:993: DataConversionWarning: A column-vector y was passed when a 1d array was expected. Please change the shape of y to (n_samples, ), for example using ravel().\n",
      "  y = column_or_1d(y, warn=True)\n",
      "/home/nestoredduardo/anaconda3/envs/scikit/lib/python3.10/site-packages/sklearn/linear_model/_huber.py:332: ConvergenceWarning: lbfgs failed to converge (status=1):\n",
      "STOP: TOTAL NO. of ITERATIONS REACHED LIMIT.\n",
      "\n",
      "Increase the number of iterations (max_iter) or scale the data as shown in:\n",
      "    https://scikit-learn.org/stable/modules/preprocessing.html\n",
      "  self.n_iter_ = _check_optimize_result(\"lbfgs\", opt_res, self.max_iter)\n"
     ]
    }
   ],
   "source": [
    "for name, estimador in estimadores.items():\n",
    "  estimador.fit(X_train, y_train)\n",
    "  predictions = estimador.predict(X_test)\n",
    "  print('='*64)\n",
    "  print(name)\n",
    "  print('MSE: ', mean_squared_error(y_test,predictions))\n"
   ]
  }
 ],
 "metadata": {
  "interpreter": {
   "hash": "5031f25390acb1452276ae8517e88cf3ec3756de36f2b5ef516996fcd4e325b1"
  },
  "kernelspec": {
   "display_name": "Python 3.10.1 64-bit ('scikit': conda)",
   "language": "python",
   "name": "python3"
  },
  "language_info": {
   "codemirror_mode": {
    "name": "ipython",
    "version": 3
   },
   "file_extension": ".py",
   "mimetype": "text/x-python",
   "name": "python",
   "nbconvert_exporter": "python",
   "pygments_lexer": "ipython3",
   "version": "3.10.1"
  },
  "orig_nbformat": 4
 },
 "nbformat": 4,
 "nbformat_minor": 2
}
