{
 "cells": [
  {
   "cell_type": "code",
   "execution_count": 4,
   "metadata": {},
   "outputs": [],
   "source": [
    "import pandas as pd\n",
    "import sklearn\n",
    "import matplotlib.pyplot as plt\n",
    "\n",
    "from sklearn.decomposition import KernelPCA\n",
    "\n",
    "from sklearn.linear_model import LogisticRegression\n",
    "\n",
    "from sklearn.preprocessing import StandardScaler\n",
    "from sklearn.model_selection import train_test_split"
   ]
  },
  {
   "cell_type": "code",
   "execution_count": 2,
   "metadata": {},
   "outputs": [
    {
     "name": "stdout",
     "output_type": "stream",
     "text": [
      "   age  sex  cp  trestbps  chol  fbs  restecg  thalach  exang  oldpeak  slope  \\\n",
      "0   52    1   0       125   212    0        1      168      0      1.0      2   \n",
      "1   53    1   0       140   203    1        0      155      1      3.1      0   \n",
      "2   70    1   0       145   174    0        1      125      1      2.6      0   \n",
      "3   61    1   0       148   203    0        1      161      0      0.0      2   \n",
      "4   62    0   0       138   294    1        1      106      0      1.9      1   \n",
      "\n",
      "   ca  thal  target  \n",
      "0   2     3       0  \n",
      "1   0     3       0  \n",
      "2   0     3       0  \n",
      "3   1     3       0  \n",
      "4   3     2       0  \n"
     ]
    }
   ],
   "source": [
    "dt_heart = pd.read_csv('./data/heart.csv')\n",
    "\n",
    "print(dt_heart.head(5))"
   ]
  },
  {
   "cell_type": "code",
   "execution_count": 3,
   "metadata": {},
   "outputs": [
    {
     "name": "stdout",
     "output_type": "stream",
     "text": [
      "(717, 13)\n",
      "(717,)\n"
     ]
    }
   ],
   "source": [
    "dt_features = dt_heart.drop(['target'], axis=1)\n",
    "dt_target = dt_heart['target']\n",
    "\n",
    "dt_features = StandardScaler().fit_transform(dt_features)\n",
    "\n",
    "X_train, X_test, y_train, y_test = train_test_split(dt_features, dt_target, test_size=0.3, random_state=1)\n",
    "\n",
    "print(X_train.shape)\n",
    "print(y_train.shape)"
   ]
  },
  {
   "cell_type": "code",
   "execution_count": 15,
   "metadata": {},
   "outputs": [
    {
     "data": {
      "text/plain": [
       "KernelPCA(kernel='poly', n_components=5)"
      ]
     },
     "execution_count": 15,
     "metadata": {},
     "output_type": "execute_result"
    }
   ],
   "source": [
    "kpca = KernelPCA(n_components=5, kernel='poly')\n",
    "kpca.fit(X_train)"
   ]
  },
  {
   "cell_type": "code",
   "execution_count": 16,
   "metadata": {},
   "outputs": [
    {
     "name": "stdout",
     "output_type": "stream",
     "text": [
      "Score KPCA 0.8051948051948052\n"
     ]
    }
   ],
   "source": [
    "dt_train = kpca.transform(X_train)\n",
    "dt_test = kpca.transform(X_test)\n",
    "\n",
    "logistic = LogisticRegression(solver='lbfgs')\n",
    "logistic.fit(dt_train, y_train)\n",
    "print('Score KPCA', logistic.score(dt_test, y_test))"
   ]
  }
 ],
 "metadata": {
  "interpreter": {
   "hash": "5031f25390acb1452276ae8517e88cf3ec3756de36f2b5ef516996fcd4e325b1"
  },
  "kernelspec": {
   "display_name": "Python 3.10.1 64-bit ('scikit': conda)",
   "language": "python",
   "name": "python3"
  },
  "language_info": {
   "codemirror_mode": {
    "name": "ipython",
    "version": 3
   },
   "file_extension": ".py",
   "mimetype": "text/x-python",
   "name": "python",
   "nbconvert_exporter": "python",
   "pygments_lexer": "ipython3",
   "version": "3.10.1"
  },
  "orig_nbformat": 4
 },
 "nbformat": 4,
 "nbformat_minor": 2
}
